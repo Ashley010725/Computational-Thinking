{
  "nbformat": 4,
  "nbformat_minor": 0,
  "metadata": {
    "colab": {
      "name": "Week6-A108260063-曾品潔.ipynb",
      "provenance": [],
      "include_colab_link": true
    },
    "kernelspec": {
      "name": "python3",
      "display_name": "Python 3"
    }
  },
  "cells": [
    {
      "cell_type": "markdown",
      "metadata": {
        "id": "view-in-github",
        "colab_type": "text"
      },
      "source": [
        "<a href=\"https://colab.research.google.com/github/Ashley010725/Computational-Thinking/blob/master/Week6_A108260063_%E6%9B%BE%E5%93%81%E6%BD%94.ipynb\" target=\"_parent\"><img src=\"https://colab.research.google.com/assets/colab-badge.svg\" alt=\"Open In Colab\"/></a>"
      ]
    },
    {
      "cell_type": "code",
      "metadata": {
        "id": "UPaIh12GHTS1",
        "colab_type": "code",
        "colab": {
          "base_uri": "https://localhost:8080/",
          "height": 119
        },
        "outputId": "f48d9a60-dc1b-4cc0-e169-c223bcd3fdd6"
      },
      "source": [
        "name = input('請問貴姓大名？')\n",
        "print('你好，', name)\n",
        "y = int(input('請問年紀？'))\n",
        "print('原來你', y,'歲')\n",
        "w = float(input('請問體重？'))\n",
        "print('體重為', w)"
      ],
      "execution_count": 3,
      "outputs": [
        {
          "output_type": "stream",
          "text": [
            "請問貴姓大名？Ashley\n",
            "你好， Ashley\n",
            "請問年紀？18\n",
            "原來你 18 歲\n",
            "請問體重？47\n",
            "體重為 47.0\n"
          ],
          "name": "stdout"
        }
      ]
    },
    {
      "cell_type": "code",
      "metadata": {
        "id": "O1NLZg2HSbK1",
        "colab_type": "code",
        "colab": {
          "base_uri": "https://localhost:8080/",
          "height": 85
        },
        "outputId": "0c4f39fa-b076-44a7-d8f8-c3cc11a09f80"
      },
      "source": [
        "上衣 = int(input('請輸入上衣數量？'))\n",
        "褲子 = int(input('請輸入褲子數量？'))\n",
        "背心 = int(input('請輸入背心數量？'))\n",
        "總金額 = 上衣*300 + 褲子*350 + 背心*400\n",
        "print('訂購服裝的總金額為', 總金額)"
      ],
      "execution_count": 4,
      "outputs": [
        {
          "output_type": "stream",
          "text": [
            "請輸入上衣數量？20\n",
            "請輸入褲子數量？30\n",
            "請輸入背心數量？40\n",
            "訂購服裝的總金額為 32500\n"
          ],
          "name": "stdout"
        }
      ]
    },
    {
      "cell_type": "code",
      "metadata": {
        "id": "yGjn__d0SiJB",
        "colab_type": "code",
        "colab": {
          "base_uri": "https://localhost:8080/",
          "height": 51
        },
        "outputId": "3a863853-1bb3-453d-b0df-3a601bdceb4c"
      },
      "source": [
        "半徑 = float(input('請輸入半徑？'))\n",
        "PI = 3.14159\n",
        "圓周長 = 2 * PI * 半徑\n",
        "圓面積 = 半徑 * 半徑 * PI\n",
        "print('圓周長為', 圓周長, '圓面積為', 圓面積)"
      ],
      "execution_count": 5,
      "outputs": [
        {
          "output_type": "stream",
          "text": [
            "請輸入半徑？5\n",
            "圓周長為 31.4159 圓面積為 78.53975\n"
          ],
          "name": "stdout"
        }
      ]
    },
    {
      "cell_type": "code",
      "metadata": {
        "id": "hYoPbTx6Smfv",
        "colab_type": "code",
        "colab": {
          "base_uri": "https://localhost:8080/",
          "height": 51
        },
        "outputId": "47a6e035-508d-4998-d75c-7d5f17a520f4"
      },
      "source": [
        "c = float(input('請輸入攝氏溫度？'))\n",
        "f = c * 9 / 5 +32\n",
        "print('華氏溫度為', f)"
      ],
      "execution_count": 6,
      "outputs": [
        {
          "output_type": "stream",
          "text": [
            "請輸入攝氏溫度？55\n",
            "華氏溫度為 131.0\n"
          ],
          "name": "stdout"
        }
      ]
    },
    {
      "cell_type": "code",
      "metadata": {
        "id": "_3w-UB0DSqkM",
        "colab_type": "code",
        "colab": {
          "base_uri": "https://localhost:8080/",
          "height": 102
        },
        "outputId": "81943804-ad44-4046-dcea-a658cfd8dc67"
      },
      "source": [
        "money = int(input('請輸入本金？'))\n",
        "interest = float(input('請輸入年利率(%)？'))\n",
        "y1 = money * (1 + interest/100)\n",
        "y2 = money * ((1 + interest/100) ** 2)\n",
        "y3 = money * ((1 + interest/100) ** 3)\n",
        "print('第一年本利和為', y1)\n",
        "print('第二年本利和為', y2)\n",
        "print('第三年本利和為', y3)"
      ],
      "execution_count": 8,
      "outputs": [
        {
          "output_type": "stream",
          "text": [
            "請輸入本金？1000\n",
            "請輸入年利率(%)？10\n",
            "第一年本利和為 1100.0\n",
            "第二年本利和為 1210.0000000000002\n",
            "第三年本利和為 1331.0000000000005\n"
          ],
          "name": "stdout"
        }
      ]
    },
    {
      "cell_type": "code",
      "metadata": {
        "id": "sDbVKdsWSwZB",
        "colab_type": "code",
        "colab": {
          "base_uri": "https://localhost:8080/",
          "height": 51
        },
        "outputId": "9f58a8c8-72ce-45fc-ea2b-2e7a3818c5d7"
      },
      "source": [
        "s = input('請輸入一個字串？')\n",
        "print('迴文判斷結果為', s == s[::-1])"
      ],
      "execution_count": 9,
      "outputs": [
        {
          "output_type": "stream",
          "text": [
            "請輸入一個字串？abcdefggfedcba\n",
            "迴文判斷結果為 True\n"
          ],
          "name": "stdout"
        }
      ]
    },
    {
      "cell_type": "code",
      "metadata": {
        "id": "UD0lB2F_S5cV",
        "colab_type": "code",
        "colab": {
          "base_uri": "https://localhost:8080/",
          "height": 85
        },
        "outputId": "e48f2fd9-6844-4ebd-861f-f767d5349121"
      },
      "source": [
        "minutes_to_convert = 123\n",
        "\n",
        "hours_decimal = minutes_to_convert/60\n",
        "hours_part = int(hours_decimal)\n",
        "\n",
        "minutes_decimal = hours_decimal-hours_part\n",
        "minutes_part = round(minutes_decimal*60) \n",
        "print(\"Hours\")\n",
        "print(hours_part)\n",
        "print(\"Minutes\")\n",
        "print(minutes_part)"
      ],
      "execution_count": 11,
      "outputs": [
        {
          "output_type": "stream",
          "text": [
            "Hours\n",
            "2\n",
            "Minutes\n",
            "3\n"
          ],
          "name": "stdout"
        }
      ]
    },
    {
      "cell_type": "code",
      "metadata": {
        "id": "ytQKm7FzTCmh",
        "colab_type": "code",
        "colab": {
          "base_uri": "https://localhost:8080/",
          "height": 85
        },
        "outputId": "63eaac8b-95b3-4106-d38f-7c629939014b"
      },
      "source": [
        "minutes_to_convert = 123\n",
        "\n",
        "hours_decimal = minutes_to_convert/60\n",
        "hours_part = int(hours_decimal)\n",
        "minutes_part = minutes_to_convert%60\n",
        "\n",
        "print(\"Hours\")\n",
        "print(hours_part)\n",
        "print(\"Minutes\")\n",
        "print(minutes_part)"
      ],
      "execution_count": 12,
      "outputs": [
        {
          "output_type": "stream",
          "text": [
            "Hours\n",
            "2\n",
            "Minutes\n",
            "3\n"
          ],
          "name": "stdout"
        }
      ]
    },
    {
      "cell_type": "code",
      "metadata": {
        "id": "X50dd9gfWJEc",
        "colab_type": "code",
        "colab": {
          "base_uri": "https://localhost:8080/",
          "height": 102
        },
        "outputId": "68d4cf88-376f-4bca-bb33-d2331f4fed2a"
      },
      "source": [
        "第一次期中考成績=int(input('請輸入第一次期中考成績'))\n",
        "第二次期中考成績=int(input('請輸入第一次期中考成績'))\n",
        "期末考成績=int(input('請輸入期末考成績'))   \n",
        "總分=第一次期中考成績+第二次期中考成績+期末考成績\n",
        "print('總成績為', 總分)        \n",
        "平均=總分/3 \n",
        "print('平均為', 平均)"
      ],
      "execution_count": 17,
      "outputs": [
        {
          "output_type": "stream",
          "text": [
            "請輸入第一次期中考成績75\n",
            "請輸入第一次期中考成績80\n",
            "請輸入期末考成績65\n",
            "總成績為 220\n",
            "平均為 73.33333333333333\n"
          ],
          "name": "stdout"
        }
      ]
    },
    {
      "cell_type": "code",
      "metadata": {
        "id": "XH3cR7FIYeTD",
        "colab_type": "code",
        "colab": {
          "base_uri": "https://localhost:8080/",
          "height": 68
        },
        "outputId": "0306efef-4d2e-4cf8-c027-24ae99db0b06"
      },
      "source": [
        "c = float(input('請輸入幾尺？'))\n",
        "d = float(input('請輸入幾吋？'))\n",
        "f = (c*12+d)*2.54\n",
        "print('轉換成', f )"
      ],
      "execution_count": 39,
      "outputs": [
        {
          "output_type": "stream",
          "text": [
            "請輸入幾尺？5\n",
            "請輸入幾吋？8\n",
            "轉換成 172.72\n"
          ],
          "name": "stdout"
        }
      ]
    },
    {
      "cell_type": "code",
      "metadata": {
        "id": "Cbk5BclWbbv7",
        "colab_type": "code",
        "colab": {
          "base_uri": "https://localhost:8080/",
          "height": 51
        },
        "outputId": "eba3d278-40ec-49af-9529-8eb9f666e22a"
      },
      "source": [
        "飲料數量=int(input('輸入購買飲料的罐數?'))\n",
        "飲料一打=int(飲料數量/12)         \n",
        "飲料個數=int=(飲料數量-飲料一打*12)\n",
        "一打價格=飲料一打*200\n",
        "個數價格=飲料個數*20\n",
        "總價=一打價格+個數價格\n",
        "print('需花費',總價)"
      ],
      "execution_count": 33,
      "outputs": [
        {
          "output_type": "stream",
          "text": [
            "輸入購買飲料的罐數?30\n",
            "需花費 520\n"
          ],
          "name": "stdout"
        }
      ]
    },
    {
      "cell_type": "code",
      "metadata": {
        "id": "BUnR4dzGhs5t",
        "colab_type": "code",
        "colab": {
          "base_uri": "https://localhost:8080/",
          "height": 233
        },
        "outputId": "3bfe266a-3c9c-409a-98e0-b9d08d1156a5"
      },
      "source": [
        "s = int(input('請輸入座號?'))\n",
        "a= int(s/5)\n",
        "group = (a+1)\n",
        "print('組別為',group)"
      ],
      "execution_count": 57,
      "outputs": [
        {
          "output_type": "stream",
          "text": [
            "請輸入座號?19\n"
          ],
          "name": "stdout"
        },
        {
          "output_type": "error",
          "ename": "TypeError",
          "evalue": "ignored",
          "traceback": [
            "\u001b[0;31m---------------------------------------------------------------------------\u001b[0m",
            "\u001b[0;31mTypeError\u001b[0m                                 Traceback (most recent call last)",
            "\u001b[0;32m<ipython-input-57-e8bdca11c7ec>\u001b[0m in \u001b[0;36m<module>\u001b[0;34m()\u001b[0m\n\u001b[0;32m----> 1\u001b[0;31m \u001b[0ms\u001b[0m \u001b[0;34m=\u001b[0m \u001b[0mint\u001b[0m\u001b[0;34m(\u001b[0m\u001b[0minput\u001b[0m\u001b[0;34m(\u001b[0m\u001b[0;34m'請輸入座號?'\u001b[0m\u001b[0;34m)\u001b[0m\u001b[0;34m)\u001b[0m\u001b[0;34m\u001b[0m\u001b[0;34m\u001b[0m\u001b[0m\n\u001b[0m\u001b[1;32m      2\u001b[0m \u001b[0ma\u001b[0m\u001b[0;34m=\u001b[0m \u001b[0mint\u001b[0m\u001b[0;34m(\u001b[0m\u001b[0ms\u001b[0m\u001b[0;34m/\u001b[0m\u001b[0;36m5\u001b[0m\u001b[0;34m)\u001b[0m\u001b[0;34m\u001b[0m\u001b[0;34m\u001b[0m\u001b[0m\n\u001b[1;32m      3\u001b[0m \u001b[0mgroup\u001b[0m \u001b[0;34m=\u001b[0m \u001b[0;34m(\u001b[0m\u001b[0ma\u001b[0m\u001b[0;34m+\u001b[0m\u001b[0;36m1\u001b[0m\u001b[0;34m)\u001b[0m\u001b[0;34m\u001b[0m\u001b[0;34m\u001b[0m\u001b[0m\n\u001b[1;32m      4\u001b[0m \u001b[0mprint\u001b[0m\u001b[0;34m(\u001b[0m\u001b[0;34m'組別為'\u001b[0m\u001b[0;34m,\u001b[0m\u001b[0mgroup\u001b[0m\u001b[0;34m)\u001b[0m\u001b[0;34m\u001b[0m\u001b[0;34m\u001b[0m\u001b[0m\n",
            "\u001b[0;31mTypeError\u001b[0m: 'int' object is not callable"
          ]
        }
      ]
    }
  ]
}