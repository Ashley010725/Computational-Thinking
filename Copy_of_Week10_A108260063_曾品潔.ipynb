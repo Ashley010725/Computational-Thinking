{
  "nbformat": 4,
  "nbformat_minor": 0,
  "metadata": {
    "colab": {
      "name": "Copy of Week10-A108260063-曾品潔.ipynb",
      "provenance": [],
      "include_colab_link": true
    },
    "kernelspec": {
      "name": "python3",
      "display_name": "Python 3"
    }
  },
  "cells": [
    {
      "cell_type": "markdown",
      "metadata": {
        "id": "view-in-github",
        "colab_type": "text"
      },
      "source": [
        "<a href=\"https://colab.research.google.com/github/Ashley010725/Computational-Thinking/blob/master/Copy_of_Week10_A108260063_%E6%9B%BE%E5%93%81%E6%BD%94.ipynb\" target=\"_parent\"><img src=\"https://colab.research.google.com/assets/colab-badge.svg\" alt=\"Open In Colab\"/></a>"
      ]
    },
    {
      "cell_type": "code",
      "metadata": {
        "id": "dPhtNEuBVab0",
        "colab_type": "code",
        "outputId": "ababf4cc-2dca-4f0e-8e33-de1e6ab70412",
        "colab": {
          "base_uri": "https://localhost:8080/",
          "height": 102
        }
      },
      "source": [
        "print(\"You are on a deserted island in a 2D world.\")\n",
        "print(\"Try to survive until rescue arrives!\")\n",
        "print(\"Available commands are in CAPITAL letters.\")\n",
        "print(\"Any other command exits the program\")\n",
        "\n",
        "print(\"First LOOK around...\")"
      ],
      "execution_count": 0,
      "outputs": [
        {
          "output_type": "stream",
          "text": [
            "You are on a deserted island in a 2D world.\n",
            "Try to survive until rescue arrives!\n",
            "Available commands are in CAPITAL letters.\n",
            "Any other command exits the program\n",
            "First LOOK around...\n"
          ],
          "name": "stdout"
        }
      ]
    },
    {
      "cell_type": "code",
      "metadata": {
        "id": "AMiDbf0waMhe",
        "colab_type": "code",
        "outputId": "bb111af3-e3b7-4287-dc47-4582b5dc8318",
        "colab": {
          "base_uri": "https://localhost:8080/",
          "height": 306
        }
      },
      "source": [
        "do = input(\":: \")\n",
        "\n",
        "if do == \"LOOK\": \n",
        "    print(\"You are stuck in a sand ditch.\") \n",
        "    print(\"Crawl out LEFT or RIGHT.\") \n",
        "\n",
        "do = input(\":: \")\n",
        "\n",
        "if do == \"LEFT\": \n",
        "    print(\"You see a STARFISH and a CRAB on the sand.\") \n",
        "    print(\"And you're hungry! Which do you eat?\")\n",
        "\n",
        "do = input(\":: \") \n",
        "if do == \"STARFISH\": \n",
        "    print(\"Oh no! You immediately don't feel well.\")\n",
        "    print(\"You do not survive :(\") \n",
        "elif do == \"CRAB\": \n",
        "    print(\"Raw crab should be fine, right? YES or NO.\") \n",
        "\n",
        "do = input(\":: \") \n",
        "if do == \"YES\":\n",
        "    print(\"Ok, You eat it raw. Fingers crossed.\")\n",
        "    print(\"Food in your belly helps you see a TREE.\") \n",
        "\n",
        "do = input(\":: \") \n",
        "if do == \"TREE\":\n",
        "    print(\"It's a coconut tree! And you're thirsty!\")\n",
        "    print(\"Do you drink the coconut water? YES or NO.\")\n",
        "\n",
        "do = input(\":: \")\n",
        "if do == \"YES\":\n",
        "    print(\"Oh boy. Coconut water and raw crab don't mix.\")\n",
        "\n",
        "    print(\"You do not survive :(\") \n",
        "\n",
        "elif do == \"NO\":\n",
        "    print(\"Good choice.\")\n",
        "    print(\"Look! It's a rescue plane! You made it! \\o/\") \n",
        "elif do == \"NO\":\n",
        "    print(\"Well, there's nothing else left to eat.\")\n",
        "    print(\"You do not survive :(\") \n",
        "elif do == \"RIGHT\": \n",
        "    print(\"No can do. That side is very slippery.\") \n",
        "    print(\"You fall very far into some weird cavern.\") \n",
        "    print(\"You do not survive :(\") \n",
        "else: \n",
        "    print(\"You can only do actions shown in capital letters.\") \n",
        "    print(\"Try again!\") "
      ],
      "execution_count": 0,
      "outputs": [
        {
          "output_type": "stream",
          "text": [
            ":: LOOK\n",
            "You are stuck in a sand ditch.\n",
            "Crawl out LEFT or RIGHT.\n",
            ":: LEFT\n",
            "You see a STARFISH and a CRAB on the sand.\n",
            "And you're hungry! Which do you eat?\n",
            ":: CRAB\n",
            "Raw crab should be fine, right? YES or NO.\n",
            ":: YES\n",
            "Ok, You eat it raw. Fingers crossed.\n",
            "Food in your belly helps you see a TREE.\n",
            ":: TREE\n",
            "It's a coconut tree! And you're thirsty!\n",
            "Do you drink the coconut water? YES or NO.\n",
            ":: YES\n",
            "Oh boy. Coconut water and raw crab don't mix.\n",
            "You do not survive :(\n"
          ],
          "name": "stdout"
        }
      ]
    },
    {
      "cell_type": "code",
      "metadata": {
        "id": "tpH-cv9wbAJk",
        "colab_type": "code",
        "outputId": "c47bfa7c-0e4a-4cd8-fde9-7d509465e64a",
        "colab": {
          "base_uri": "https://localhost:8080/",
          "height": 68
        }
      },
      "source": [
        "import random\n",
        "my = int(input(\"請出拳 [0] 剪刀 [1] 石頭 [2] 布\"))\n",
        "print(\"我出拳為\", my)\n",
        "computer = random.randint(0, 2)\n",
        "print(\"電腦出拳為\", computer)"
      ],
      "execution_count": 0,
      "outputs": [
        {
          "output_type": "stream",
          "text": [
            "請出拳 [0] 剪刀 [1] 石頭 [2] 布1\n",
            "我出拳為 1\n",
            "電腦出拳為 1\n"
          ],
          "name": "stdout"
        }
      ]
    },
    {
      "cell_type": "code",
      "metadata": {
        "id": "qV2exzpMcMQK",
        "colab_type": "code",
        "outputId": "bcc62de8-5adc-426f-b3dc-9b2c164103e0",
        "colab": {
          "base_uri": "https://localhost:8080/",
          "height": 34
        }
      },
      "source": [
        "if my == 0:\n",
        "        if computer == 0:\n",
        "            print('平手')\n",
        "        elif computer == 1:\n",
        "            print('電腦獲勝')\n",
        "        else:\n",
        "            print('玩家獲勝')\n",
        "elif my == 1:\n",
        "        if computer == 0:\n",
        "            print('玩家獲勝')\n",
        "        elif computer == 1:\n",
        "            print('平手')\n",
        "        else:\n",
        "            print('電腦獲勝')\n",
        "else:\n",
        "        if computer == 1:\n",
        "            print('電腦獲勝')\n",
        "        elif computer == 2:\n",
        "            print('玩家獲勝')\n",
        "        else:\n",
        "            print('平手')"
      ],
      "execution_count": 0,
      "outputs": [
        {
          "output_type": "stream",
          "text": [
            "平手\n"
          ],
          "name": "stdout"
        }
      ]
    },
    {
      "cell_type": "code",
      "metadata": {
        "id": "OealW15yeRk1",
        "colab_type": "code",
        "outputId": "36e23744-ce34-4200-c36c-98f0800f5b62",
        "colab": {
          "base_uri": "https://localhost:8080/",
          "height": 68
        }
      },
      "source": [
        "import random\n",
        "my_choice = int(input(\"請出拳 [0] 剪刀 [1] 石頭 [2] 布\"))\n",
        "print(\"我出拳為\", my_choice)\n",
        "com_choice = random.randint(0, 2)\n",
        "print(\"電腦出拳為\", com_choice)"
      ],
      "execution_count": 0,
      "outputs": [
        {
          "output_type": "stream",
          "text": [
            "請出拳 [0] 剪刀 [1] 石頭 [2] 布1\n",
            "我出拳為 1\n",
            "電腦出拳為 0\n"
          ],
          "name": "stdout"
        }
      ]
    },
    {
      "cell_type": "code",
      "metadata": {
        "id": "yryf55MdeZs3",
        "colab_type": "code",
        "outputId": "b007fa66-cc9a-451d-8c43-01758c6e19db",
        "colab": {
          "base_uri": "https://localhost:8080/",
          "height": 34
        }
      },
      "source": [
        "if my_choice == (com_choice + 1) % 3:\n",
        "    print(\"我贏了\")\n",
        "elif my_choice == com_choice:\n",
        "    print(\"平手\")\n",
        "else:\n",
        "    print(\"我輸了\")"
      ],
      "execution_count": 0,
      "outputs": [
        {
          "output_type": "stream",
          "text": [
            "我贏了\n"
          ],
          "name": "stdout"
        }
      ]
    },
    {
      "cell_type": "code",
      "metadata": {
        "id": "5RoQYhmFepA4",
        "colab_type": "code",
        "outputId": "315ce735-f652-4a29-f3c0-faf732a43e7c",
        "colab": {
          "base_uri": "https://localhost:8080/",
          "height": 68
        }
      },
      "source": [
        "import random\n",
        "my_choice = int(input(\"請出拳 [0] 蟲 [1] 雞 [2] 老虎 [3] 棒子\"))\n",
        "print(\"你出的拳:\", my_choice)\n",
        "com_choice = random.randint(0, 3)\n",
        "print(\"電腦出拳為\", com_choice)"
      ],
      "execution_count": 0,
      "outputs": [
        {
          "output_type": "stream",
          "text": [
            "請出拳 [0] 蟲 [1] 雞 [2] 老虎 [3] 棒子1\n",
            "你出的拳: 1\n",
            "電腦出拳為 1\n"
          ],
          "name": "stdout"
        }
      ]
    },
    {
      "cell_type": "code",
      "metadata": {
        "id": "6H9AOuzQeswV",
        "colab_type": "code",
        "outputId": "44b92b20-e185-4c11-c506-920fd3521f38",
        "colab": {
          "base_uri": "https://localhost:8080/",
          "height": 34
        }
      },
      "source": [
        "if my_choice == (com_choice + 1) % 4:\n",
        "    print(\"我贏了\")\n",
        "elif com_choice == (my_choice + 1) % 4:\n",
        "    print(\"電腦贏了\")\n",
        "else:\n",
        "    print(\"平手\")"
      ],
      "execution_count": 0,
      "outputs": [
        {
          "output_type": "stream",
          "text": [
            "平手\n"
          ],
          "name": "stdout"
        }
      ]
    },
    {
      "cell_type": "code",
      "metadata": {
        "id": "lnw5qJStjxoJ",
        "colab_type": "code",
        "outputId": "deca2ff7-68f0-4a98-be3f-80ac0194bf9b",
        "colab": {
          "base_uri": "https://localhost:8080/",
          "height": 51
        }
      },
      "source": [
        "eye=float(input('請輸入眼睛度數?'))\n",
        "if eye < 0.9:\n",
        "    print('近視')\n",
        "else:\n",
        "    print('視力正常')    "
      ],
      "execution_count": 0,
      "outputs": [
        {
          "output_type": "stream",
          "text": [
            "請輸入眼睛度數?0.8\n",
            "近視\n"
          ],
          "name": "stdout"
        }
      ]
    },
    {
      "cell_type": "code",
      "metadata": {
        "id": "KQ4TNeNHlZXp",
        "colab_type": "code",
        "outputId": "d8fa4ab1-f1ce-41b5-e5e8-b18b8b291f95",
        "colab": {
          "base_uri": "https://localhost:8080/",
          "height": 51
        }
      },
      "source": [
        "year = int(input('請輸入年份?'))\n",
        "if year % 4==0 :\n",
        "  if year%400==0:\n",
        "   print(year,\"是閏年\")\n",
        "  elif year % 100==0 :\n",
        "   print(year,\"不是閏年\")\n",
        "  else:\n",
        "   print(year,\"是閏年\")\n",
        "else:\n",
        "   print(year,\"不是閏年\")"
      ],
      "execution_count": 0,
      "outputs": [
        {
          "output_type": "stream",
          "text": [
            "請輸入年份?2012\n",
            "2012 是閏年\n"
          ],
          "name": "stdout"
        }
      ]
    }
  ]
}