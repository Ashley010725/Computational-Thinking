{
  "nbformat": 4,
  "nbformat_minor": 0,
  "metadata": {
    "colab": {
      "name": "Week9-A108260063-曾品潔.ipynb",
      "provenance": [],
      "collapsed_sections": [],
      "include_colab_link": true
    },
    "kernelspec": {
      "name": "python3",
      "display_name": "Python 3"
    }
  },
  "cells": [
    {
      "cell_type": "markdown",
      "metadata": {
        "id": "view-in-github",
        "colab_type": "text"
      },
      "source": [
        "<a href=\"https://colab.research.google.com/github/Ashley010725/Computational-Thinking/blob/master/Week9_A108260063_%E6%9B%BE%E5%93%81%E6%BD%94.ipynb\" target=\"_parent\"><img src=\"https://colab.research.google.com/assets/colab-badge.svg\" alt=\"Open In Colab\"/></a>"
      ]
    },
    {
      "cell_type": "code",
      "metadata": {
        "id": "QlrU9OWVQwP9",
        "colab_type": "code",
        "colab": {
          "base_uri": "https://localhost:8080/",
          "height": 51
        },
        "outputId": "a51e07bd-70c4-4cb5-d73c-15448050bfa9"
      },
      "source": [
        "score = int(input('請輸入一個成績?'))\n",
        "if score >= 60:\n",
        "     print('很好,請繼續保持下去')"
      ],
      "execution_count": 4,
      "outputs": [
        {
          "output_type": "stream",
          "text": [
            "請輸入一個成績?88\n",
            "很好,請繼續保持下去\n"
          ],
          "name": "stdout"
        }
      ]
    },
    {
      "cell_type": "code",
      "metadata": {
        "id": "m1KYLsF9gh6I",
        "colab_type": "code",
        "colab": {
          "base_uri": "https://localhost:8080/",
          "height": 51
        },
        "outputId": "71dc1021-62e9-4ba1-fc17-ef294542b4b0"
      },
      "source": [
        "score = int(input('請輸入一個成績?'))\n",
        "if score >= 60:\n",
        "    print('有及格ㄡ~')\n",
        "else:\n",
        "    print('不及格ㄟ!')"
      ],
      "execution_count": 5,
      "outputs": [
        {
          "output_type": "stream",
          "text": [
            "請輸入一個成績?50\n",
            "不及格ㄟ!\n"
          ],
          "name": "stdout"
        }
      ]
    },
    {
      "cell_type": "code",
      "metadata": {
        "id": "EyjcXDVigTz4",
        "colab_type": "code",
        "colab": {
          "base_uri": "https://localhost:8080/",
          "height": 51
        },
        "outputId": "c0ee6fb5-61d4-41aa-97e7-4988aad8d5b8"
      },
      "source": [
        "score = int(input('請輸入一個成績?'))\n",
        "if score >= 80:\n",
        "    print('非常好')\n",
        "elif score >= 60:\n",
        "    print('不錯喔')\n",
        "else:\n",
        "    print('要加油')"
      ],
      "execution_count": 6,
      "outputs": [
        {
          "output_type": "stream",
          "text": [
            "請輸入一個成績?66\n",
            "不錯喔\n"
          ],
          "name": "stdout"
        }
      ]
    },
    {
      "cell_type": "code",
      "metadata": {
        "id": "DG4JI2UnjErQ",
        "colab_type": "code",
        "colab": {
          "base_uri": "https://localhost:8080/",
          "height": 68
        },
        "outputId": "24c3e7a2-266e-4a24-9afc-9aa9e9260e14"
      },
      "source": [
        "x = float(input('請輸入該點的X座標?')) \n",
        "y = float(input('請輸入該點的Y座標?'))\n",
        "\n",
        "if (x > 0):\n",
        "   if (y > 0):\n",
        "     print('該點在第一象限') \n",
        "   else:\n",
        "     print('該點在第四象限') \n",
        "else:\n",
        "   if (y > 0):\n",
        "     print('該點在第二象限') \n",
        "   else:\n",
        "     print('該點在第三象限') "
      ],
      "execution_count": 9,
      "outputs": [
        {
          "output_type": "stream",
          "text": [
            "請輸入該點的X座標?1\n",
            "請輸入該點的Y座標?1\n",
            "該點在第一象限\n"
          ],
          "name": "stdout"
        }
      ]
    },
    {
      "cell_type": "code",
      "metadata": {
        "id": "dMLc8blsjeQl",
        "colab_type": "code",
        "colab": {
          "base_uri": "https://localhost:8080/",
          "height": 51
        },
        "outputId": "626f7c16-d709-419b-cc78-9bf27a592d8e"
      },
      "source": [
        "cost = int(input('請輸入購買金額?'))\n",
        "if cost >= 2000:\n",
        "    print(cost * 0.9)\n",
        "else:\n",
        "    print(cost)"
      ],
      "execution_count": 10,
      "outputs": [
        {
          "output_type": "stream",
          "text": [
            "請輸入購買金額?2000\n",
            "1800.0\n"
          ],
          "name": "stdout"
        }
      ]
    },
    {
      "cell_type": "code",
      "metadata": {
        "id": "AAfSE5P1k6nf",
        "colab_type": "code",
        "colab": {
          "base_uri": "https://localhost:8080/",
          "height": 51
        },
        "outputId": "b58c41d1-c414-4452-8c77-d2e32c67b821"
      },
      "source": [
        "num = int(input('請輸入一個整數?'))\n",
        "if num % 2 == 0: \n",
        "    print(num, '為偶數')\n",
        "else:\n",
        "    print(num, '為奇數')"
      ],
      "execution_count": 11,
      "outputs": [
        {
          "output_type": "stream",
          "text": [
            "請輸入一個整數?13\n",
            "13 為奇數\n"
          ],
          "name": "stdout"
        }
      ]
    },
    {
      "cell_type": "code",
      "metadata": {
        "id": "qHuk9iWClGqY",
        "colab_type": "code",
        "colab": {
          "base_uri": "https://localhost:8080/",
          "height": 51
        },
        "outputId": "b19ee931-4d65-4d78-8c4a-b953fcf88ebf"
      },
      "source": [
        "num = int(input('請輸入一個整數?'))\n",
        "if num % 2 == 1: \n",
        "    print(num, '為奇數')\n",
        "else:\n",
        "    print(num, '為偶數')"
      ],
      "execution_count": 12,
      "outputs": [
        {
          "output_type": "stream",
          "text": [
            "請輸入一個整數?13\n",
            "13 為奇數\n"
          ],
          "name": "stdout"
        }
      ]
    },
    {
      "cell_type": "code",
      "metadata": {
        "id": "CIYTGMyClNdN",
        "colab_type": "code",
        "colab": {
          "base_uri": "https://localhost:8080/",
          "height": 85
        },
        "outputId": "d8f57817-3b45-4036-9c76-2548a942f758"
      },
      "source": [
        "a = int(input('請輸入三角形邊長a長度為?'))\n",
        "b = int(input('請輸入三角形邊長b長度為?'))\n",
        "c = int(input('請輸入三角形邊長c長度為?'))\n",
        "if (a<b+c)and(b<a+c)and(c<a+b): \n",
        "    print('可構成三角形')\n",
        "else:\n",
        "    print('無法構成三角形')"
      ],
      "execution_count": 14,
      "outputs": [
        {
          "output_type": "stream",
          "text": [
            "請輸入三角形邊長a長度為?11\n",
            "請輸入三角形邊長b長度為?12\n",
            "請輸入三角形邊長c長度為?13\n",
            "可構成三角形\n"
          ],
          "name": "stdout"
        }
      ]
    },
    {
      "cell_type": "code",
      "metadata": {
        "id": "fDx5NxQIlXy5",
        "colab_type": "code",
        "colab": {
          "base_uri": "https://localhost:8080/",
          "height": 85
        },
        "outputId": "9c00e42e-23e7-4d4d-af01-826eb41648d1"
      },
      "source": [
        "w = float(input('請輸入體重(KG)?'))\n",
        "h = float(input('請輸入身高(M)?'))\n",
        "bmi = w/(h*h) \n",
        "print('BMI為', bmi) \n",
        "\n",
        "if bmi < 18:\n",
        "    print('體重過輕')\n",
        "elif bmi < 24:\n",
        "    print('體重正常')\n",
        "elif bmi < 27:\n",
        "    print('體重過重')\n",
        "else:\n",
        "    print('體重肥胖')"
      ],
      "execution_count": 16,
      "outputs": [
        {
          "output_type": "stream",
          "text": [
            "請輸入體重(KG)?75\n",
            "請輸入身高(M)?1.7\n",
            "BMI為 25.95155709342561\n",
            "體重過重\n"
          ],
          "name": "stdout"
        }
      ]
    }
  ]
}