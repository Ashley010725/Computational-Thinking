{
  "nbformat": 4,
  "nbformat_minor": 0,
  "metadata": {
    "colab": {
      "name": "Week16-A108260063-曾品潔.ipynb",
      "provenance": [],
      "include_colab_link": true
    },
    "kernelspec": {
      "name": "python3",
      "display_name": "Python 3"
    }
  },
  "cells": [
    {
      "cell_type": "markdown",
      "metadata": {
        "id": "view-in-github",
        "colab_type": "text"
      },
      "source": [
        "<a href=\"https://colab.research.google.com/github/Ashley010725/Computational-Thinking/blob/master/Week16_A108260063_%E6%9B%BE%E5%93%81%E6%BD%94.ipynb\" target=\"_parent\"><img src=\"https://colab.research.google.com/assets/colab-badge.svg\" alt=\"Open In Colab\"/></a>"
      ]
    },
    {
      "cell_type": "code",
      "metadata": {
        "id": "FbG6M_s9pfW7",
        "colab_type": "code",
        "colab": {
          "base_uri": "https://localhost:8080/",
          "height": 68
        },
        "outputId": "b2108c46-d4a1-4037-a5a4-be6901b48d8f"
      },
      "source": [
        "i = 1\n",
        "while (i < 6):\n",
        "    print(i)\n",
        "    if i == 3:\n",
        "        break\n",
        "    i += 1"
      ],
      "execution_count": 1,
      "outputs": [
        {
          "output_type": "stream",
          "text": [
            "1\n",
            "2\n",
            "3\n"
          ],
          "name": "stdout"
        }
      ]
    },
    {
      "cell_type": "code",
      "metadata": {
        "id": "7Xg4qa-utFta",
        "colab_type": "code",
        "colab": {
          "base_uri": "https://localhost:8080/",
          "height": 85
        },
        "outputId": "3d7fbba8-8fdb-42b1-93db-984e0273ef6e"
      },
      "source": [
        "i = 0\n",
        "while (i < 5):\n",
        "    i += 1\n",
        "    if i == 3:\n",
        "        continue\n",
        "    print(i)"
      ],
      "execution_count": 2,
      "outputs": [
        {
          "output_type": "stream",
          "text": [
            "1\n",
            "2\n",
            "4\n",
            "5\n"
          ],
          "name": "stdout"
        }
      ]
    },
    {
      "cell_type": "code",
      "metadata": {
        "id": "OxEETLKFtndY",
        "colab_type": "code",
        "colab": {
          "base_uri": "https://localhost:8080/",
          "height": 119
        },
        "outputId": "a0357cec-6058-416e-dcb9-255d10c03a5b"
      },
      "source": [
        "i = 1\n",
        "while (i<6):\n",
        "    print(i)\n",
        "    if i == 6:\n",
        "        break\n",
        "    i += 1\n",
        "else:\n",
        "    print('while迴圈正常結束')"
      ],
      "execution_count": 3,
      "outputs": [
        {
          "output_type": "stream",
          "text": [
            "1\n",
            "2\n",
            "3\n",
            "4\n",
            "5\n",
            "while迴圈正常結束\n"
          ],
          "name": "stdout"
        }
      ]
    },
    {
      "cell_type": "code",
      "metadata": {
        "id": "_R6oljM7yHto",
        "colab_type": "code",
        "colab": {
          "base_uri": "https://localhost:8080/",
          "height": 119
        },
        "outputId": "9c453cb7-ce34-4e40-f2b9-ac8ecce562c1"
      },
      "source": [
        "i = 1\n",
        "while (i<6):\n",
        "    print(i)\n",
        "    if i == 6:\n",
        "        break\n",
        "    i += 1\n",
        "print('while迴圈正常結束')"
      ],
      "execution_count": 4,
      "outputs": [
        {
          "output_type": "stream",
          "text": [
            "1\n",
            "2\n",
            "3\n",
            "4\n",
            "5\n",
            "while迴圈正常結束\n"
          ],
          "name": "stdout"
        }
      ]
    },
    {
      "cell_type": "code",
      "metadata": {
        "id": "5KC-YrWHy8iu",
        "colab_type": "code",
        "colab": {
          "base_uri": "https://localhost:8080/",
          "height": 119
        },
        "outputId": "af4c9cd9-493f-4f49-9418-54a42ee06f4d"
      },
      "source": [
        "while True:\n",
        "    acc = input('請輸入帳號?')\n",
        "    pwd = input('請輸入密碼?')\n",
        "    if (acc == 'abc' and pwd == '123'):\n",
        "        print('帳號與密碼正確')\n",
        "        break\n",
        "    else:\n",
        "        print('登入失敗')"
      ],
      "execution_count": 6,
      "outputs": [
        {
          "output_type": "stream",
          "text": [
            "請輸入帳號?123\n",
            "請輸入密碼?123\n",
            "登入失敗\n",
            "請輸入帳號?abc\n",
            "請輸入密碼?123\n",
            "帳號與密碼正確\n"
          ],
          "name": "stdout"
        }
      ]
    },
    {
      "cell_type": "code",
      "metadata": {
        "id": "WEfD1DYyzgIk",
        "colab_type": "code",
        "colab": {
          "base_uri": "https://localhost:8080/",
          "height": 51
        },
        "outputId": "971b0d3b-c1b0-40c7-9f0f-c814e0a25640"
      },
      "source": [
        "password = \"a123456\"\n",
        "times = 0\n",
        "\n",
        "while times <= 3:\n",
        "    answer = input(\"Enter Your Password: \") #另外用一個變數名字\n",
        "    if answer == password: #不要用a123456,因為密碼可以改\n",
        "        print(\"登入成功\")\n",
        "        break #出迴圈\n",
        "    else:\n",
        "        times = times + 1\n",
        "        chance = 3 - times\n",
        "        print(\"密碼錯誤!還有\", chance, \"次機會\")"
      ],
      "execution_count": 7,
      "outputs": [
        {
          "output_type": "stream",
          "text": [
            "Enter Your Password: a123456\n",
            "登入成功\n"
          ],
          "name": "stdout"
        }
      ]
    },
    {
      "cell_type": "code",
      "metadata": {
        "id": "ujdJS1H6z46q",
        "colab_type": "code",
        "colab": {
          "base_uri": "https://localhost:8080/",
          "height": 51
        },
        "outputId": "4b5ce956-1628-4270-9712-9e1f2151ae6c"
      },
      "source": [
        "import random\n",
        "while True:\n",
        "    dice = random.randint(1,6)\n",
        "    print(dice)\n",
        "    if dice == 6:\n",
        "        break"
      ],
      "execution_count": 8,
      "outputs": [
        {
          "output_type": "stream",
          "text": [
            "5\n",
            "6\n"
          ],
          "name": "stdout"
        }
      ]
    },
    {
      "cell_type": "code",
      "metadata": {
        "id": "huTX-cfi5Swb",
        "colab_type": "code",
        "colab": {
          "base_uri": "https://localhost:8080/",
          "height": 34
        },
        "outputId": "90be7a5f-d169-4226-f9da-2c46db990ab5"
      },
      "source": [
        "# range為python內建函數,是清單產生器 list generator\n",
        "range(5) #[0,1,2,3,4]\n",
        "range(3) #[0,1,2,]\n",
        "range(2,5) #[2,3,4]\n",
        "range(8,10) #[8,9]\n",
        "range(2,10,3) #[2,5,8]\n",
        "range(3,8,2) #[3,5,7]\n",
        "range(10,3,-2) #[10,8,6,4]\n",
        "#range通常的起始值是0, 階梯值是1,結尾不包括結束值、是到結束值的前一個。"
      ],
      "execution_count": 12,
      "outputs": [
        {
          "output_type": "execute_result",
          "data": {
            "text/plain": [
              "range(10, 3, -2)"
            ]
          },
          "metadata": {
            "tags": []
          },
          "execution_count": 12
        }
      ]
    },
    {
      "cell_type": "code",
      "metadata": {
        "id": "DwgeyWK05Rws",
        "colab_type": "code",
        "colab": {
          "base_uri": "https://localhost:8080/",
          "height": 1000
        },
        "outputId": "59b4fc85-d2ae-4366-91b1-a5a7754aaaeb"
      },
      "source": [
        "#range通常和for迴圈搭配, for i in range\n",
        "for i in range(5):\n",
        "    print(i)\n",
        "for i in range(3):\n",
        "    print(\"hi\")\n",
        "import random\n",
        "for i in range(10):\n",
        "    r = random.randint(1,100)\n",
        "    print(r)\n",
        "for i in range(100):\n",
        "    r = random.randint(1,1000)\n",
        "    print(\"第\", i, \"個隨機變數的值是\", r)\n",
        "t = 0\n",
        "for i in range(100):\n",
        "    t += 50\n",
        "    print(\"第\", i, \"個數是\", t )"
      ],
      "execution_count": 13,
      "outputs": [
        {
          "output_type": "stream",
          "text": [
            "0\n",
            "1\n",
            "2\n",
            "3\n",
            "4\n",
            "hi\n",
            "hi\n",
            "hi\n",
            "44\n",
            "69\n",
            "83\n",
            "27\n",
            "39\n",
            "46\n",
            "85\n",
            "21\n",
            "39\n",
            "100\n",
            "第 0 個隨機變數的值是 684\n",
            "第 1 個隨機變數的值是 786\n",
            "第 2 個隨機變數的值是 495\n",
            "第 3 個隨機變數的值是 426\n",
            "第 4 個隨機變數的值是 165\n",
            "第 5 個隨機變數的值是 718\n",
            "第 6 個隨機變數的值是 210\n",
            "第 7 個隨機變數的值是 449\n",
            "第 8 個隨機變數的值是 358\n",
            "第 9 個隨機變數的值是 315\n",
            "第 10 個隨機變數的值是 740\n",
            "第 11 個隨機變數的值是 695\n",
            "第 12 個隨機變數的值是 967\n",
            "第 13 個隨機變數的值是 330\n",
            "第 14 個隨機變數的值是 588\n",
            "第 15 個隨機變數的值是 119\n",
            "第 16 個隨機變數的值是 423\n",
            "第 17 個隨機變數的值是 429\n",
            "第 18 個隨機變數的值是 617\n",
            "第 19 個隨機變數的值是 181\n",
            "第 20 個隨機變數的值是 953\n",
            "第 21 個隨機變數的值是 645\n",
            "第 22 個隨機變數的值是 84\n",
            "第 23 個隨機變數的值是 144\n",
            "第 24 個隨機變數的值是 922\n",
            "第 25 個隨機變數的值是 315\n",
            "第 26 個隨機變數的值是 165\n",
            "第 27 個隨機變數的值是 178\n",
            "第 28 個隨機變數的值是 291\n",
            "第 29 個隨機變數的值是 49\n",
            "第 30 個隨機變數的值是 360\n",
            "第 31 個隨機變數的值是 87\n",
            "第 32 個隨機變數的值是 870\n",
            "第 33 個隨機變數的值是 858\n",
            "第 34 個隨機變數的值是 168\n",
            "第 35 個隨機變數的值是 951\n",
            "第 36 個隨機變數的值是 635\n",
            "第 37 個隨機變數的值是 261\n",
            "第 38 個隨機變數的值是 721\n",
            "第 39 個隨機變數的值是 840\n",
            "第 40 個隨機變數的值是 199\n",
            "第 41 個隨機變數的值是 297\n",
            "第 42 個隨機變數的值是 995\n",
            "第 43 個隨機變數的值是 438\n",
            "第 44 個隨機變數的值是 730\n",
            "第 45 個隨機變數的值是 909\n",
            "第 46 個隨機變數的值是 675\n",
            "第 47 個隨機變數的值是 599\n",
            "第 48 個隨機變數的值是 776\n",
            "第 49 個隨機變數的值是 42\n",
            "第 50 個隨機變數的值是 651\n",
            "第 51 個隨機變數的值是 928\n",
            "第 52 個隨機變數的值是 868\n",
            "第 53 個隨機變數的值是 160\n",
            "第 54 個隨機變數的值是 35\n",
            "第 55 個隨機變數的值是 203\n",
            "第 56 個隨機變數的值是 115\n",
            "第 57 個隨機變數的值是 812\n",
            "第 58 個隨機變數的值是 394\n",
            "第 59 個隨機變數的值是 741\n",
            "第 60 個隨機變數的值是 55\n",
            "第 61 個隨機變數的值是 411\n",
            "第 62 個隨機變數的值是 36\n",
            "第 63 個隨機變數的值是 6\n",
            "第 64 個隨機變數的值是 363\n",
            "第 65 個隨機變數的值是 764\n",
            "第 66 個隨機變數的值是 283\n",
            "第 67 個隨機變數的值是 55\n",
            "第 68 個隨機變數的值是 179\n",
            "第 69 個隨機變數的值是 744\n",
            "第 70 個隨機變數的值是 372\n",
            "第 71 個隨機變數的值是 888\n",
            "第 72 個隨機變數的值是 417\n",
            "第 73 個隨機變數的值是 3\n",
            "第 74 個隨機變數的值是 280\n",
            "第 75 個隨機變數的值是 175\n",
            "第 76 個隨機變數的值是 911\n",
            "第 77 個隨機變數的值是 715\n",
            "第 78 個隨機變數的值是 356\n",
            "第 79 個隨機變數的值是 704\n",
            "第 80 個隨機變數的值是 167\n",
            "第 81 個隨機變數的值是 517\n",
            "第 82 個隨機變數的值是 763\n",
            "第 83 個隨機變數的值是 177\n",
            "第 84 個隨機變數的值是 47\n",
            "第 85 個隨機變數的值是 330\n",
            "第 86 個隨機變數的值是 198\n",
            "第 87 個隨機變數的值是 112\n",
            "第 88 個隨機變數的值是 565\n",
            "第 89 個隨機變數的值是 906\n",
            "第 90 個隨機變數的值是 714\n",
            "第 91 個隨機變數的值是 468\n",
            "第 92 個隨機變數的值是 13\n",
            "第 93 個隨機變數的值是 563\n",
            "第 94 個隨機變數的值是 417\n",
            "第 95 個隨機變數的值是 368\n",
            "第 96 個隨機變數的值是 577\n",
            "第 97 個隨機變數的值是 318\n",
            "第 98 個隨機變數的值是 909\n",
            "第 99 個隨機變數的值是 5\n",
            "第 0 個數是 50\n",
            "第 1 個數是 100\n",
            "第 2 個數是 150\n",
            "第 3 個數是 200\n",
            "第 4 個數是 250\n",
            "第 5 個數是 300\n",
            "第 6 個數是 350\n",
            "第 7 個數是 400\n",
            "第 8 個數是 450\n",
            "第 9 個數是 500\n",
            "第 10 個數是 550\n",
            "第 11 個數是 600\n",
            "第 12 個數是 650\n",
            "第 13 個數是 700\n",
            "第 14 個數是 750\n",
            "第 15 個數是 800\n",
            "第 16 個數是 850\n",
            "第 17 個數是 900\n",
            "第 18 個數是 950\n",
            "第 19 個數是 1000\n",
            "第 20 個數是 1050\n",
            "第 21 個數是 1100\n",
            "第 22 個數是 1150\n",
            "第 23 個數是 1200\n",
            "第 24 個數是 1250\n",
            "第 25 個數是 1300\n",
            "第 26 個數是 1350\n",
            "第 27 個數是 1400\n",
            "第 28 個數是 1450\n",
            "第 29 個數是 1500\n",
            "第 30 個數是 1550\n",
            "第 31 個數是 1600\n",
            "第 32 個數是 1650\n",
            "第 33 個數是 1700\n",
            "第 34 個數是 1750\n",
            "第 35 個數是 1800\n",
            "第 36 個數是 1850\n",
            "第 37 個數是 1900\n",
            "第 38 個數是 1950\n",
            "第 39 個數是 2000\n",
            "第 40 個數是 2050\n",
            "第 41 個數是 2100\n",
            "第 42 個數是 2150\n",
            "第 43 個數是 2200\n",
            "第 44 個數是 2250\n",
            "第 45 個數是 2300\n",
            "第 46 個數是 2350\n",
            "第 47 個數是 2400\n",
            "第 48 個數是 2450\n",
            "第 49 個數是 2500\n",
            "第 50 個數是 2550\n",
            "第 51 個數是 2600\n",
            "第 52 個數是 2650\n",
            "第 53 個數是 2700\n",
            "第 54 個數是 2750\n",
            "第 55 個數是 2800\n",
            "第 56 個數是 2850\n",
            "第 57 個數是 2900\n",
            "第 58 個數是 2950\n",
            "第 59 個數是 3000\n",
            "第 60 個數是 3050\n",
            "第 61 個數是 3100\n",
            "第 62 個數是 3150\n",
            "第 63 個數是 3200\n",
            "第 64 個數是 3250\n",
            "第 65 個數是 3300\n",
            "第 66 個數是 3350\n",
            "第 67 個數是 3400\n",
            "第 68 個數是 3450\n",
            "第 69 個數是 3500\n",
            "第 70 個數是 3550\n",
            "第 71 個數是 3600\n",
            "第 72 個數是 3650\n",
            "第 73 個數是 3700\n",
            "第 74 個數是 3750\n",
            "第 75 個數是 3800\n",
            "第 76 個數是 3850\n",
            "第 77 個數是 3900\n",
            "第 78 個數是 3950\n",
            "第 79 個數是 4000\n",
            "第 80 個數是 4050\n",
            "第 81 個數是 4100\n",
            "第 82 個數是 4150\n",
            "第 83 個數是 4200\n",
            "第 84 個數是 4250\n",
            "第 85 個數是 4300\n",
            "第 86 個數是 4350\n",
            "第 87 個數是 4400\n",
            "第 88 個數是 4450\n",
            "第 89 個數是 4500\n",
            "第 90 個數是 4550\n",
            "第 91 個數是 4600\n",
            "第 92 個數是 4650\n",
            "第 93 個數是 4700\n",
            "第 94 個數是 4750\n",
            "第 95 個數是 4800\n",
            "第 96 個數是 4850\n",
            "第 97 個數是 4900\n",
            "第 98 個數是 4950\n",
            "第 99 個數是 5000\n"
          ],
          "name": "stdout"
        }
      ]
    },
    {
      "cell_type": "code",
      "metadata": {
        "id": "4Ov614b27Qm3",
        "colab_type": "code",
        "colab": {
          "base_uri": "https://localhost:8080/",
          "height": 187
        },
        "outputId": "498bb6c0-552c-4eef-aaa2-2cd5e847bea7"
      },
      "source": [
        "# 方法(一):for迴圈\n",
        "s = int(input('請輸入加總開始值?'))\n",
        "e = int(input('請輸入加總終止值?'))\n",
        "inc = int(input('請輸入遞增減值?'))\n",
        "\n",
        "sum = 0 #初始結果\n",
        "\n",
        "for i in range(s, e, inc): #判斷條件\n",
        "\n",
        "    sum = sum + i #更新結果\n",
        "    print('i為', i, '加總結果為', sum)"
      ],
      "execution_count": 17,
      "outputs": [
        {
          "output_type": "stream",
          "text": [
            "請輸入加總開始值?2\n",
            "請輸入加總終止值?23\n",
            "請輸入遞增減值?3\n",
            "i為 2 加總結果為 2\n",
            "i為 5 加總結果為 7\n",
            "i為 8 加總結果為 15\n",
            "i為 11 加總結果為 26\n",
            "i為 14 加總結果為 40\n",
            "i為 17 加總結果為 57\n",
            "i為 20 加總結果為 77\n"
          ],
          "name": "stdout"
        }
      ]
    }
  ]
}